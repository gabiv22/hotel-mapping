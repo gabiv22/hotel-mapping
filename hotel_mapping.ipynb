{
 "cells": [
  {
   "cell_type": "code",
   "execution_count": 1,
   "id": "a9cfbb08",
   "metadata": {},
   "outputs": [],
   "source": [
    "import pandas as pd\n",
    "import numpy as np\n",
    "from bs4 import BeautifulSoup\n",
    "import requests\n",
    "import re\n",
    "import Levenshtein\n",
    "import itertools\n",
    "from fuzzywuzzy import fuzz\n",
    "import fasttext\n",
    "from sklearn.metrics.pairwise import cosine_similarity\n",
    "from fastDamerauLevenshtein import damerauLevenshtein"
   ]
  },
  {
   "cell_type": "markdown",
   "id": "f475e736",
   "metadata": {},
   "source": [
    "TODO: use mapping between cities from examples dataset"
   ]
  },
  {
   "cell_type": "code",
   "execution_count": 2,
   "id": "cdc3d545",
   "metadata": {},
   "outputs": [
    {
     "data": {
      "text/plain": [
       "(499, 14)"
      ]
     },
     "execution_count": 2,
     "metadata": {},
     "output_type": "execute_result"
    }
   ],
   "source": [
    "partner1_df = pd.read_excel(\"Example.xlsx\", \"Partner1\")\n",
    "partner2_df = pd.read_excel(\"Example.xlsx\", \"Partner2\")\n",
    "examples_df = pd.read_excel(\"Example.xlsx\", \"examples\")\n",
    "\n",
    "# rename columns \n",
    "partner1_df.columns = ['key', 'hotel_name', 'city_name', 'country_code','hotel_address', 'star_rating', 'postal_code']\n",
    "partner2_df.columns = ['key', 'hotel_name', 'city_name', 'country_code','hotel_address', 'star_rating', 'postal_code']\n",
    "\n",
    "examples_df.shape"
   ]
  },
  {
   "cell_type": "code",
   "execution_count": 3,
   "id": "71d3b183",
   "metadata": {},
   "outputs": [
    {
     "data": {
      "text/plain": [
       "(key                 0\n",
       " hotel_name          0\n",
       " city_name           0\n",
       " country_code        5\n",
       " hotel_address       1\n",
       " star_rating         0\n",
       " postal_code      1750\n",
       " dtype: int64,\n",
       " key                0\n",
       " hotel_name         0\n",
       " city_name          0\n",
       " country_code       5\n",
       " hotel_address      1\n",
       " star_rating        0\n",
       " postal_code      664\n",
       " dtype: int64)"
      ]
     },
     "execution_count": 3,
     "metadata": {},
     "output_type": "execute_result"
    }
   ],
   "source": [
    "# check for missing values\n",
    "partner1_df.isna().sum(), partner2_df.isna().sum()"
   ]
  },
  {
   "cell_type": "markdown",
   "id": "68ae3afd",
   "metadata": {},
   "source": [
    "since only a few \"country_code\" are missing, it really doesn't make any sense to fill them. but if we want to try to fill them I thought about using the known mapping between city - country_code. (the commented code) "
   ]
  },
  {
   "cell_type": "code",
   "execution_count": null,
   "id": "b3559d0a",
   "metadata": {},
   "outputs": [],
   "source": [
    "# # check if can infer country based on city\n",
    "# all_known_countries_and_cities_df = pd.concat([partner1_df.loc[:,['city_name', 'country_code']],\n",
    "#                                               partner2_df.loc[:,['p2.city_name', 'p2.country_code']],\n",
    "#                                               examples_df.loc[:,['p1.city_name', 'p1.country_code']].rename(columns={'p1.city_name': 'city_name', 'p1.country_code': 'country_code'}),\n",
    "#                                               examples_df.loc[:,['p2.city_name', 'p2.country_code']].rename(columns={'p2.city_name': 'city_name', 'p2.country_code': 'country_code'})])\n",
    "# unique_countries_per_city = all_known_countries_and_cities_df.groupby('city_name')['country_code'].apply(lambda x: np.unique(x))\n",
    "\n",
    "\n",
    "# # try to fill \"country_code\" nans using city name --DOESNT REALLY WORK since cities are new to us\n",
    "# partner1_df['p1.country_code1'] = partner1_df.apply(\n",
    "#     lambda row: unique_countries_per_city.loc[row['p1.city_name']][0] if len(unique_countries_per_city.loc[row['p1.city_name']]) == 1 else row['p1.country_code'], axis=1)"
   ]
  },
  {
   "cell_type": "markdown",
   "id": "4f26158d",
   "metadata": {},
   "source": [
    "I don't see anything interesting to learn in star_rating, although maybe we can check by spliting into countries to learn a new relation???"
   ]
  },
  {
   "cell_type": "code",
   "execution_count": 4,
   "id": "e7e5ecc7",
   "metadata": {},
   "outputs": [
    {
     "data": {
      "text/plain": [
       "<AxesSubplot:>"
      ]
     },
     "execution_count": 4,
     "metadata": {},
     "output_type": "execute_result"
    },
    {
     "data": {
      "image/png": "[encoded data removed]",
      "text/plain": [
       "<Figure size 432x288 with 1 Axes>"
      ]
     },
     "metadata": {
      "needs_background": "light"
     },
     "output_type": "display_data"
    }
   ],
   "source": [
    "# judging by examples_df - star_rating is not super reliable\n",
    "star_rating_df = examples_df.loc[examples_df['p1.star_rating'] != examples_df['p2.star_rating']].loc[:,['p1.star_rating', \"p2.star_rating\", \"p1.country_code\"]]\n",
    "star_rating_df = star_rating_df.dropna()\n",
    "star_rating_df[\"diff_rating\"] = star_rating_df[\"p1.star_rating\"] - star_rating_df[\"p2.star_rating\"]\n",
    "star_rating_df[\"diff_rating\"].hist()"
   ]
  },
  {
   "cell_type": "code",
   "execution_count": 890,
   "id": "bb4e1608",
   "metadata": {
    "scrolled": true
   },
   "outputs": [],
   "source": [
    "#star_rating_df.groupby('p1.country_code').diff_rating.apply(lambda x: x.unique())"
   ]
  },
  {
   "cell_type": "markdown",
   "id": "19b26ee7",
   "metadata": {},
   "source": [
    "found a website online with mapping between country code and name. will use to strip country name from address/ hotel name"
   ]
  },
  {
   "cell_type": "code",
   "execution_count": 5,
   "id": "82ead7fa",
   "metadata": {},
   "outputs": [
    {
     "name": "stdout",
     "output_type": "stream",
     "text": [
      "1.0\n"
     ]
    }
   ],
   "source": [
    "page = requests.get(\"https://www.iban.com/country-codes\")\n",
    "soup = BeautifulSoup(page.content, 'html.parser')\n",
    "\n",
    "#country_name, country_id = [], []\n",
    "country2id = {}\n",
    "for tr in soup.find_all('tr')[2:]:\n",
    "    tds = tr.find_all('td')\n",
    "    #country_name.append(tds[0].text) \n",
    "    #country_id.append(tds[1].text)\n",
    "    country2id[tds[1].text] = tds[0].text\n",
    "    \n",
    "country2id['XK'] = 'Kosovo'\n",
    "country2id['LA'] = 'laos'\n",
    "    \n",
    "#country2id = pd.DataFrame.from_dict({\"country_name\": country_name, \"country_id\": country_id})\n",
    "#country2id.head()\n",
    "\n",
    "# check that \"country_id\" is a unique identifier\n",
    "print(len(np.unique(list(country2id.values())))/len(country2id.values()))"
   ]
  },
  {
   "cell_type": "code",
   "execution_count": 6,
   "id": "ed0652df",
   "metadata": {},
   "outputs": [
    {
     "data": {
      "text/plain": [
       "818                     NaN\n",
       "996                    2117\n",
       "2324                   2505\n",
       "2341    2008-02-02 00:00:00\n",
       "3014    2029-02-07 00:00:00\n",
       "3449                    171\n",
       "3537                   4169\n",
       "5270                   4027\n",
       "7079                    300\n",
       "8234    2001-01-05 00:00:00\n",
       "8406    2016-02-18 00:00:00\n",
       "9301    2012-02-12 00:00:00\n",
       "Name: hotel_address, dtype: object"
      ]
     },
     "execution_count": 6,
     "metadata": {},
     "output_type": "execute_result"
    }
   ],
   "source": [
    "# check if all addresses are strings\n",
    "partner1_df['hotel_address'].loc[partner1_df['hotel_address'].apply(type) != type(partner1_df['hotel_address'][0])]"
   ]
  },
  {
   "cell_type": "code",
   "execution_count": 7,
   "id": "2eceaa5f",
   "metadata": {},
   "outputs": [],
   "source": [
    "# some addresses are actually dates so just convert to na \n",
    "import time\n",
    "def isTimeFormat(s):\n",
    "    try:\n",
    "        time.strptime(str(s), '%Y-%m-%d %H:%M:%S')\n",
    "        return ''\n",
    "    except:\n",
    "        return str(s)\n",
    "partner1_df['hotel_address'] = partner1_df['hotel_address'].apply(isTimeFormat)\n",
    "partner2_df['hotel_address'] = partner2_df['hotel_address'].apply(isTimeFormat)"
   ]
  },
  {
   "cell_type": "code",
   "execution_count": 8,
   "id": "ec853e2f",
   "metadata": {},
   "outputs": [],
   "source": [
    "# lowercase \n",
    "examples_df['p1.city_name'] = examples_df['p1.city_name'].str.lower()\n",
    "examples_df['p2.city_name'] = examples_df['p2.city_name'].str.lower()\n",
    "examples_df['p1.hotel_address'] = examples_df['p1.hotel_address'].str.lower()\n",
    "examples_df['p2.hotel_address'] = examples_df['p2.hotel_address'].str.lower()\n",
    "\n",
    "partner1_df['hotel_address'] = partner1_df['hotel_address'].str.lower()\n",
    "partner2_df['hotel_address'] = partner2_df['hotel_address'].str.lower()\n",
    "partner1_df['city_name'] = partner1_df['city_name'].str.lower()\n",
    "partner2_df['city_name'] = partner2_df['city_name'].str.lower()\n",
    "partner1_df['hotel_name'] = partner1_df['hotel_name'].str.lower()\n",
    "partner2_df['hotel_name'] = partner2_df['hotel_name'].str.lower()\n",
    "\n",
    "# check if our dataset \"country_id\" matches all with scraped \"country_id\"s\n",
    "partner1_df['country_name'] = partner1_df['country_code'].apply(lambda c: country2id[c].lower() if not pd.isnull(c) else c)\n",
    "partner2_df['country_name'] = partner2_df['country_code'].apply(lambda c: country2id[c].lower() if not pd.isnull(c) else c)\n",
    "\n",
    "examples_df['p1.country_name'] = examples_df['p1.country_code'].apply(lambda c: country2id[c].lower() if not pd.isnull(c) else c)\n",
    "examples_df['p2.country_name'] = examples_df['p2.country_code'].apply(lambda c: country2id[c].lower() if not pd.isnull(c) else c)\n",
    "\n",
    "\n",
    "#partner1_df['p1.country_code'] = partner1_df['p1.country_code'].apply(str)\n",
    "\n",
    "# remove \"-\" or spaces from postal_code string\n",
    "partner1_df['clean_postal_code'] = partner1_df['postal_code'].apply(lambda s: list(filter(len, re.split('-| ',str(s)))))\n",
    "partner2_df['clean_postal_code'] = partner2_df['postal_code'].apply(lambda s: list(filter(len, re.split('-| ',str(s)))))\n",
    "examples_df['p1.clean_postal_code'] = examples_df['p1.postal_code'].apply(lambda s: list(filter(len, re.split('-| ',str(s)))))\n",
    "examples_df['p2.clean_postal_code'] = examples_df['p2.postal_code'].apply(lambda s: list(filter(len, re.split('-| ',str(s)))))"
   ]
  },
  {
   "cell_type": "code",
   "execution_count": 9,
   "id": "33a2b50e",
   "metadata": {},
   "outputs": [],
   "source": [
    "partner1_df.fillna('', inplace=True)\n",
    "partner2_df.fillna('', inplace=True)\n",
    "examples_df.fillna('', inplace=True)"
   ]
  },
  {
   "cell_type": "code",
   "execution_count": 99,
   "id": "7a4b84d2",
   "metadata": {},
   "outputs": [],
   "source": [
    "#list(partner1_df.loc[partner1_df['postal_code'].apply(type) != partner1_df['postal_code'].apply(type)[0]]['postal_code'].unique())"
   ]
  },
  {
   "cell_type": "code",
   "execution_count": 10,
   "id": "e1350811",
   "metadata": {
    "scrolled": true
   },
   "outputs": [
    {
     "data": {
      "text/plain": [
       "4554"
      ]
     },
     "execution_count": 10,
     "metadata": {},
     "output_type": "execute_result"
    }
   ],
   "source": [
    "# lets remove all mentions of cities/ country id's from addresses and hotel names:\n",
    "all_cities = partner1_df['city_name'].apply(\n",
    "    lambda s: [part.strip() for part in re.split('[\\(\\)]', s) if part.strip()]).tolist() + partner2_df['city_name'].apply(\n",
    "    lambda s: [part.strip() for part in re.split('[\\(\\)]', s) if part.strip()]).tolist() + examples_df['p1.city_name'].apply(\n",
    "    lambda s: [part.strip() for part in re.split('[\\(\\)]', s) if part.strip()]).tolist() + examples_df['p2.city_name'].apply(\n",
    "    lambda s: [part.strip() for part in re.split('[\\(\\)]', s) if part.strip()]).tolist()\n",
    "    \n",
    "all_cities = [re.sub(r'[^\\w\\s]',' ',str(c)) for c_l in all_cities for c in c_l]\n",
    "\n",
    "all_countries = partner1_df['country_code'].apply(\n",
    "    lambda s: s.split()).tolist() +partner2_df['country_code'].apply(\n",
    "    lambda s: s.split()).tolist() + examples_df['p1.country_code'].apply(\n",
    "    lambda s: s.split()).tolist() + examples_df['p2.country_code'].apply(\n",
    "    lambda s: s.split()).tolist()\n",
    "all_countries = [re.sub(r'[^\\w\\s]',' ',str(c)) for c_l in all_countries for c in c_l ]\n",
    "\n",
    "\n",
    "countries_and_cities_unique = list(np.unique(all_cities + all_countries))\n",
    "countries_and_cities_unique = [c for c in countries_and_cities_unique if len(c)>1]\n",
    "len(countries_and_cities_unique)"
   ]
  },
  {
   "cell_type": "code",
   "execution_count": 11,
   "id": "796f1482",
   "metadata": {},
   "outputs": [],
   "source": [
    "import pdb\n",
    "def remove_from_string(input_string: str, words_to_remove: list):\n",
    "    try:\n",
    "        input_string = re.sub(r'[^\\w\\s]',' ',str(input_string))\n",
    "        input_string_words = input_string.split()\n",
    "    except:\n",
    "        pdb.set_trace()\n",
    "    return ' '.join([word.lower() for word in input_string_words if word.lower() not in words_to_remove])\n",
    "\n",
    "# remove city and country name from address\n",
    "address_redundent_words = ['dr', 'drive', 'city', 'street', 'st', 'str', 'streets', 'road', 'blvd', 'roads', 'rd', 'district', 'boulevard', 'via']\n",
    "\n",
    "partner1_df['clean_address'] = partner1_df.apply(\n",
    "    lambda row: remove_from_string(row['hotel_address'], \n",
    "                                   address_redundent_words + countries_and_cities_unique), axis=1)\n",
    "\n",
    "partner2_df['clean_address'] = partner2_df.apply(\n",
    "    lambda row: remove_from_string(row['hotel_address'], \n",
    "                                   address_redundent_words + countries_and_cities_unique), axis=1)\n",
    "\n",
    "examples_df['p1.clean_address'] = examples_df.apply(\n",
    "    lambda row: remove_from_string(row['p1.hotel_address'], \n",
    "                                   address_redundent_words + countries_and_cities_unique), axis=1)\n",
    "\n",
    "examples_df['p2.clean_address'] = examples_df.apply(\n",
    "    lambda row: remove_from_string(row['p2.hotel_address'], \n",
    "                                   address_redundent_words + countries_and_cities_unique), axis=1)"
   ]
  },
  {
   "cell_type": "code",
   "execution_count": 12,
   "id": "1216105d",
   "metadata": {},
   "outputs": [],
   "source": [
    "# list of known easy keywords from \"hotel_name\" - NOT USED!\n",
    "hotel_name_redundent_words = ['hostel', 'guesthouse','resort', 'resorts', 'suites', 'suite', 'apartment', 'apartments', 'inn', 'hotel', 'hotels', 'and', '&']\n",
    "\n",
    "# remove city and country name and keywords from \"hotel_name\":\n",
    "partner1_df['clean_hotel_name'] = partner1_df.apply(\n",
    "    lambda row: remove_from_string(row['hotel_name'], \n",
    "                                   countries_and_cities_unique), axis=1)\n",
    "\n",
    "partner2_df['clean_hotel_name'] = partner2_df.apply(\n",
    "    lambda row: remove_from_string(row['hotel_name'], \n",
    "                                   countries_and_cities_unique), axis=1)\n",
    "\n",
    "examples_df['p1.clean_hotel_name'] = examples_df.apply(\n",
    "    lambda row: remove_from_string(row['p1.hotel_name'], \n",
    "                                   countries_and_cities_unique), axis=1)\n",
    "\n",
    "examples_df['p2.clean_hotel_name'] = examples_df.apply(\n",
    "    lambda row: remove_from_string(row['p2.hotel_name'], \n",
    "                                   countries_and_cities_unique), axis=1)\n",
    "\n",
    "\n",
    "from difflib import SequenceMatcher\n",
    "def remove_longest_substring_from_first(s1, s2):\n",
    "    match = SequenceMatcher(None, s1, s2).find_longest_match()\n",
    "    matched_str = s1[match.a:match.a + match.size]\n",
    "    matched_str = \" \".join(m for m in matched_str.split() if m in s1.split() or m in s2.split())\n",
    "    if len(matched_str) > 3:\n",
    "    # return s1[:match.a]+ s1[match.a + match.size:]\n",
    "        return s1.replace(matched_str, \"\").strip()\n",
    "    return s1\n",
    "\n",
    "\n",
    "\n",
    "# remove address from hotel name:\n",
    "partner1_df['clean_hotel_name'] = partner1_df.apply(\n",
    "    lambda row: remove_longest_substring_from_first(row['clean_hotel_name'], row['clean_address']), axis=1)\n",
    "\n",
    "partner2_df['clean_hotel_name'] = partner2_df.apply(\n",
    "    lambda row: remove_longest_substring_from_first(row['clean_hotel_name'], row['clean_address']), axis=1)\n",
    "\n",
    "examples_df['p1.clean_hotel_name'] = examples_df.apply(\n",
    "    lambda row: remove_longest_substring_from_first(row['p1.clean_hotel_name'], row['p1.clean_address']), axis=1)\n",
    "\n",
    "examples_df['p2.clean_hotel_name'] = examples_df.apply(\n",
    "    lambda row: remove_longest_substring_from_first(row['p2.clean_hotel_name'], row['p2.clean_address']), axis=1)\n",
    "\n",
    "\n",
    "# remove redundent words list from \"hotel_name\":\n",
    "# partner1_df['clean_hotel_name_redundent'] = partner1_df.apply(\n",
    "#     lambda row: remove_from_string(row['clean_hotel_name'], \n",
    "#                                    hotel_name_redundent_words), axis=1)\n",
    "\n",
    "# partner2_df['clean_hotel_name_redundent'] = partner2_df.apply(\n",
    "#     lambda row: remove_from_string(row['clean_hotel_name'], \n",
    "#                                    hotel_name_redundent_words), axis=1)\n",
    "\n",
    "# examples_df['p1.clean_hotel_name_redundent'] = examples_df.apply(\n",
    "#     lambda row: remove_from_string(row['p1.clean_hotel_name'], \n",
    "#                                    hotel_name_redundent_words ), axis=1)\n",
    "\n",
    "# examples_df['p2.clean_hotel_name_redundent'] = examples_df.apply(\n",
    "#     lambda row: remove_from_string(row['p2.clean_hotel_name'], \n",
    "#                                    hotel_name_redundent_words ), axis=1)"
   ]
  },
  {
   "cell_type": "code",
   "execution_count": 13,
   "id": "e72893ac",
   "metadata": {
    "scrolled": false
   },
   "outputs": [
    {
     "data": {
      "text/plain": [
       "key                                   F370487187D23B44E5C73DB8BA44220D\n",
       "hotel_name                                    j.a. villa pattaya hotel\n",
       "city_name                                                      pattaya\n",
       "country_code                                                        TH\n",
       "hotel_address        3/241 moo 6, pattaya 3rd road, naklua, banglamung\n",
       "star_rating                                                        4.0\n",
       "postal_code                                                      20150\n",
       "country_name                                                  thailand\n",
       "clean_postal_code                                              [20150]\n",
       "clean_address                        3 241 moo 6 3rd naklua banglamung\n",
       "clean_hotel_name                                       j a villa hotel\n",
       "Name: 931, dtype: object"
      ]
     },
     "execution_count": 13,
     "metadata": {},
     "output_type": "execute_result"
    }
   ],
   "source": [
    "partner1_df.loc[931,:]#['p1.hotel_name'].sample(100)"
   ]
  },
  {
   "cell_type": "code",
   "execution_count": 14,
   "id": "5ea9a0c6",
   "metadata": {},
   "outputs": [
    {
     "data": {
      "text/plain": [
       "p1.key                                   074BF1CC1F1C150E080EBB9855D23EAC\n",
       "p1.hotel_name                                       Grand Malioboro Hotel\n",
       "p1.city_name                                                        jambi\n",
       "p1.country_code                                                        ID\n",
       "p1.hotel_address                          jl. iskandar muda no. 168 jambi\n",
       "p1.star_rating                                                        3.0\n",
       "p1.postal_code                                                           \n",
       "p2.key                                   CBEF956F35D16548C939056575C7E0C7\n",
       "p2.hotel_name                                       Grand Malioboro Hotel\n",
       "p2.city_name                                                        jambi\n",
       "p2.country_code                                                        ID\n",
       "p2.hotel_address        jalan iskandar muda no. 168, sei asam, pasar j...\n",
       "p2.star_rating                                                        3.0\n",
       "p2.postal_code                                                      36113\n",
       "p1.country_name                                                 indonesia\n",
       "p2.country_name                                                 indonesia\n",
       "p1.clean_postal_code                                                [nan]\n",
       "p2.clean_postal_code                                              [36113]\n",
       "p1.clean_address                                  jl iskandar muda no 168\n",
       "p2.clean_address                jalan iskandar muda no 168 sei asam pasar\n",
       "p1.clean_hotel_name                                 grand malioboro hotel\n",
       "p2.clean_hotel_name                                 grand malioboro hotel\n",
       "Name: 0, dtype: object"
      ]
     },
     "execution_count": 14,
     "metadata": {},
     "output_type": "execute_result"
    }
   ],
   "source": [
    "examples_df.loc[0,:]"
   ]
  },
  {
   "cell_type": "code",
   "execution_count": 15,
   "id": "4f0a20ea",
   "metadata": {},
   "outputs": [
    {
     "data": {
      "text/plain": [
       "<AxesSubplot:>"
      ]
     },
     "execution_count": 15,
     "metadata": {},
     "output_type": "execute_result"
    },
    {
     "data": {
      "image/png": "[encoded data removed]",
      "text/plain": [
       "<Figure size 432x288 with 1 Axes>"
      ]
     },
     "metadata": {
      "needs_background": "light"
     },
     "output_type": "display_data"
    }
   ],
   "source": [
    "# for some countries postalcode is useless\n",
    "partner2_df.groupby('country_code').clean_postal_code.apply(lambda x: len(np.unique(x))).hist()"
   ]
  },
  {
   "cell_type": "code",
   "execution_count": 20,
   "id": "57319433",
   "metadata": {},
   "outputs": [
    {
     "name": "stderr",
     "output_type": "stream",
     "text": [
      "/var/folders/76/4rxszdjj23sftmw56f0_fz5h0000gn/T/ipykernel_28070/2977765283.py:3: FutureWarning: The pandas.np module is deprecated and will be removed from pandas in a future version. Import numpy directly instead.\n",
      "  partner2_df.loc[partner2_df.country_code.isin(postal2country.loc[postal2country == 1].index), 'clean_postal_code'] = np.repeat([pd.np.nan], n2)\n",
      "/var/folders/76/4rxszdjj23sftmw56f0_fz5h0000gn/T/ipykernel_28070/2977765283.py:7: FutureWarning: The pandas.np module is deprecated and will be removed from pandas in a future version. Import numpy directly instead.\n",
      "  partner1_df.loc[partner1_df.country_code.isin(postal2country.loc[postal2country == 1].index), 'clean_postal_code'] = np.repeat([pd.np.nan], n1)\n"
     ]
    }
   ],
   "source": [
    "postal2country = partner2_df.groupby('country_code').clean_postal_code.apply(lambda x: len(np.unique(x)))\n",
    "n2 = partner2_df.loc[partner2_df.country_code.isin(postal2country.loc[postal2country == 1].index), 'clean_postal_code'].shape[0]\n",
    "partner2_df.loc[partner2_df.country_code.isin(postal2country.loc[postal2country == 1].index), 'clean_postal_code'] = np.repeat([pd.np.nan], n2)\n",
    "\n",
    "postal2country = partner1_df.groupby('country_code').clean_postal_code.apply(lambda x: len(np.unique(x)))\n",
    "n1 = partner1_df.loc[partner1_df.country_code.isin(postal2country.loc[postal2country == 1].index), 'clean_postal_code'].shape[0]\n",
    "partner1_df.loc[partner1_df.country_code.isin(postal2country.loc[postal2country == 1].index), 'clean_postal_code'] = np.repeat([pd.np.nan], n1)"
   ]
  },
  {
   "cell_type": "code",
   "execution_count": 30,
   "id": "89bb5d33",
   "metadata": {},
   "outputs": [
    {
     "data": {
      "text/plain": [
       "<AxesSubplot:>"
      ]
     },
     "execution_count": 30,
     "metadata": {},
     "output_type": "execute_result"
    },
    {
     "data": {
      "image/png": "[encoded data removed]",
      "text/plain": [
       "<Figure size 432x288 with 1 Axes>"
      ]
     },
     "metadata": {
      "needs_background": "light"
     },
     "output_type": "display_data"
    }
   ],
   "source": [
    "def get_min_postal_dist(r):\n",
    "    min_dist = 999\n",
    "    \n",
    "    perms_p1 = [\"\".join(p) for p in list(itertools.permutations(r['p1.clean_postal_code']))]+r['p1.clean_postal_code']\n",
    "    perms_p2 = [\"\".join(p) for p in list(itertools.permutations(r['p2.clean_postal_code']))]+r['p2.clean_postal_code']\n",
    "    for p1 in perms_p1:\n",
    "        for p2 in perms_p2:\n",
    "            d = damerauLevenshtein(p1.lower(), p2.lower(), similarity=False) / np.min([len(p1), len(p2)])\n",
    "            if d < min_dist:\n",
    "                min_dist = d\n",
    "    return min_dist\n",
    "\n",
    "example_postal_code_df = examples_df.loc[examples_df['p2.clean_postal_code'] != examples_df['p1.clean_postal_code']].loc[:,['p1.clean_postal_code', 'p2.clean_postal_code']]#.sample(100)\n",
    "\n",
    "example_postal_code_df['postal_code_dist'] = example_postal_code_df.apply(\n",
    "    lambda r: get_min_postal_dist(r), axis=1)\n",
    "example_postal_code_df = example_postal_code_df.loc[example_postal_code_df['postal_code_dist'] != np.inf]\n",
    "example_postal_code_df.loc[example_postal_code_df[\"postal_code_dist\"] !=999][\"postal_code_dist\"].hist()"
   ]
  },
  {
   "cell_type": "code",
   "execution_count": 218,
   "id": "3400a664",
   "metadata": {},
   "outputs": [
    {
     "data": {
      "text/html": [
       "<div>\n",
       "<style scoped>\n",
       "    .dataframe tbody tr th:only-of-type {\n",
       "        vertical-align: middle;\n",
       "    }\n",
       "\n",
       "    .dataframe tbody tr th {\n",
       "        vertical-align: top;\n",
       "    }\n",
       "\n",
       "    .dataframe thead th {\n",
       "        text-align: right;\n",
       "    }\n",
       "</style>\n",
       "<table border=\"1\" class=\"dataframe\">\n",
       "  <thead>\n",
       "    <tr style=\"text-align: right;\">\n",
       "      <th></th>\n",
       "      <th>p1.clean_postal_code</th>\n",
       "      <th>p2.clean_postal_code</th>\n",
       "      <th>postal_code_dist</th>\n",
       "    </tr>\n",
       "  </thead>\n",
       "  <tbody>\n",
       "    <tr>\n",
       "      <th>0</th>\n",
       "      <td>[nan]</td>\n",
       "      <td>[36113]</td>\n",
       "      <td>1.666667</td>\n",
       "    </tr>\n",
       "    <tr>\n",
       "      <th>3</th>\n",
       "      <td>[nan]</td>\n",
       "      <td>[510420]</td>\n",
       "      <td>2.000000</td>\n",
       "    </tr>\n",
       "    <tr>\n",
       "      <th>7</th>\n",
       "      <td>[140, 201]</td>\n",
       "      <td>[140, 200]</td>\n",
       "      <td>0.000000</td>\n",
       "    </tr>\n",
       "    <tr>\n",
       "      <th>12</th>\n",
       "      <td>[528000]</td>\n",
       "      <td>[528061]</td>\n",
       "      <td>0.333333</td>\n",
       "    </tr>\n",
       "    <tr>\n",
       "      <th>15</th>\n",
       "      <td>[946]</td>\n",
       "      <td>[964]</td>\n",
       "      <td>0.333333</td>\n",
       "    </tr>\n",
       "    <tr>\n",
       "      <th>...</th>\n",
       "      <td>...</td>\n",
       "      <td>...</td>\n",
       "      <td>...</td>\n",
       "    </tr>\n",
       "    <tr>\n",
       "      <th>490</th>\n",
       "      <td>[263761]</td>\n",
       "      <td>[11221]</td>\n",
       "      <td>1.000000</td>\n",
       "    </tr>\n",
       "    <tr>\n",
       "      <th>491</th>\n",
       "      <td>[nan]</td>\n",
       "      <td>[300]</td>\n",
       "      <td>1.000000</td>\n",
       "    </tr>\n",
       "    <tr>\n",
       "      <th>492</th>\n",
       "      <td>[82600]</td>\n",
       "      <td>[82000]</td>\n",
       "      <td>0.200000</td>\n",
       "    </tr>\n",
       "    <tr>\n",
       "      <th>494</th>\n",
       "      <td>[730030]</td>\n",
       "      <td>[730000]</td>\n",
       "      <td>0.166667</td>\n",
       "    </tr>\n",
       "    <tr>\n",
       "      <th>495</th>\n",
       "      <td>[410191]</td>\n",
       "      <td>[40191]</td>\n",
       "      <td>0.200000</td>\n",
       "    </tr>\n",
       "  </tbody>\n",
       "</table>\n",
       "<p>142 rows × 3 columns</p>\n",
       "</div>"
      ],
      "text/plain": [
       "    p1.clean_postal_code p2.clean_postal_code  postal_code_dist\n",
       "0                  [nan]              [36113]          1.666667\n",
       "3                  [nan]             [510420]          2.000000\n",
       "7             [140, 201]           [140, 200]          0.000000\n",
       "12              [528000]             [528061]          0.333333\n",
       "15                 [946]                [964]          0.333333\n",
       "..                   ...                  ...               ...\n",
       "490             [263761]              [11221]          1.000000\n",
       "491                [nan]                [300]          1.000000\n",
       "492              [82600]              [82000]          0.200000\n",
       "494             [730030]             [730000]          0.166667\n",
       "495             [410191]              [40191]          0.200000\n",
       "\n",
       "[142 rows x 3 columns]"
      ]
     },
     "execution_count": 218,
     "metadata": {},
     "output_type": "execute_result"
    }
   ],
   "source": [
    "example_postal_code_df.loc[example_postal_code_df[\"postal_code_dist\"] !=999]"
   ]
  },
  {
   "cell_type": "code",
   "execution_count": 31,
   "id": "c0993eaa",
   "metadata": {
    "scrolled": true
   },
   "outputs": [
    {
     "data": {
      "text/html": [
       "<div>\n",
       "<style scoped>\n",
       "    .dataframe tbody tr th:only-of-type {\n",
       "        vertical-align: middle;\n",
       "    }\n",
       "\n",
       "    .dataframe tbody tr th {\n",
       "        vertical-align: top;\n",
       "    }\n",
       "\n",
       "    .dataframe thead th {\n",
       "        text-align: right;\n",
       "    }\n",
       "</style>\n",
       "<table border=\"1\" class=\"dataframe\">\n",
       "  <thead>\n",
       "    <tr style=\"text-align: right;\">\n",
       "      <th></th>\n",
       "      <th>p1.clean_hotel_name</th>\n",
       "      <th>p2.clean_hotel_name</th>\n",
       "      <th>hotel_dist</th>\n",
       "    </tr>\n",
       "  </thead>\n",
       "  <tbody>\n",
       "    <tr>\n",
       "      <th>3</th>\n",
       "      <td>7 days inn baiyun yongtai metro 2nd branch</td>\n",
       "      <td>7days inn  yongtai subway station 2nd</td>\n",
       "      <td>0.38</td>\n",
       "    </tr>\n",
       "    <tr>\n",
       "      <th>5</th>\n",
       "      <td>pension flying sumo</td>\n",
       "      <td>flying sumo surf company</td>\n",
       "      <td>0.41</td>\n",
       "    </tr>\n",
       "    <tr>\n",
       "      <th>6</th>\n",
       "      <td>sagala boutique hotel</td>\n",
       "      <td>boutique hotel</td>\n",
       "      <td>0.10</td>\n",
       "    </tr>\n",
       "    <tr>\n",
       "      <th>10</th>\n",
       "      <td>inn the city business hotel</td>\n",
       "      <td>inn the city hotel</td>\n",
       "      <td>0.20</td>\n",
       "    </tr>\n",
       "    <tr>\n",
       "      <th>11</th>\n",
       "      <td>khumsuk resort</td>\n",
       "      <td>khamsuk resort</td>\n",
       "      <td>0.07</td>\n",
       "    </tr>\n",
       "    <tr>\n",
       "      <th>...</th>\n",
       "      <td>...</td>\n",
       "      <td>...</td>\n",
       "      <td>...</td>\n",
       "    </tr>\n",
       "    <tr>\n",
       "      <th>484</th>\n",
       "      <td>atrium hotel and suites</td>\n",
       "      <td>atrium hotel jacuzzi suites</td>\n",
       "      <td>0.18</td>\n",
       "    </tr>\n",
       "    <tr>\n",
       "      <th>488</th>\n",
       "      <td>hidden paradise by rahi resort</td>\n",
       "      <td>hidden paradise by rahi resorts</td>\n",
       "      <td>0.02</td>\n",
       "    </tr>\n",
       "    <tr>\n",
       "      <th>493</th>\n",
       "      <td>green coconut resort ecr</td>\n",
       "      <td>green coconut resort</td>\n",
       "      <td>0.08</td>\n",
       "    </tr>\n",
       "    <tr>\n",
       "      <th>494</th>\n",
       "      <td>7 days inn  road branch</td>\n",
       "      <td>7days inn  road</td>\n",
       "      <td>0.20</td>\n",
       "    </tr>\n",
       "    <tr>\n",
       "      <th>498</th>\n",
       "      <td>hotel le mireille</td>\n",
       "      <td>le mireille</td>\n",
       "      <td>0.10</td>\n",
       "    </tr>\n",
       "  </tbody>\n",
       "</table>\n",
       "<p>200 rows × 3 columns</p>\n",
       "</div>"
      ],
      "text/plain": [
       "                            p1.clean_hotel_name  \\\n",
       "3    7 days inn baiyun yongtai metro 2nd branch   \n",
       "5                           pension flying sumo   \n",
       "6                         sagala boutique hotel   \n",
       "10                  inn the city business hotel   \n",
       "11                               khumsuk resort   \n",
       "..                                          ...   \n",
       "484                     atrium hotel and suites   \n",
       "488              hidden paradise by rahi resort   \n",
       "493                    green coconut resort ecr   \n",
       "494                     7 days inn  road branch   \n",
       "498                           hotel le mireille   \n",
       "\n",
       "                       p2.clean_hotel_name  hotel_dist  \n",
       "3    7days inn  yongtai subway station 2nd        0.38  \n",
       "5                 flying sumo surf company        0.41  \n",
       "6                           boutique hotel        0.10  \n",
       "10                      inn the city hotel        0.20  \n",
       "11                          khamsuk resort        0.07  \n",
       "..                                     ...         ...  \n",
       "484            atrium hotel jacuzzi suites        0.18  \n",
       "488        hidden paradise by rahi resorts        0.02  \n",
       "493                   green coconut resort        0.08  \n",
       "494                        7days inn  road        0.20  \n",
       "498                            le mireille        0.10  \n",
       "\n",
       "[200 rows x 3 columns]"
      ]
     },
     "execution_count": 31,
     "metadata": {},
     "output_type": "execute_result"
    }
   ],
   "source": [
    "def best_fuzz(s1,s2):\n",
    "    max_score = 0\n",
    "    l_s1 = s1.split()\n",
    "    l_s2 = s2.split()\n",
    "    perms_s1 = [\"\".join(l_s1), s1]\n",
    "    perms_s2 = [\"\".join(l_s2), s2]\n",
    "    if s1 in s2 or s2 in s1 and np.min([len(l_s1), len(l_s2)])>1:\n",
    "        max_score=90        \n",
    "    for s1_ in perms_s1:\n",
    "        for s2_ in perms_s2:\n",
    "            score = fuzz.token_sort_ratio(s1_,s2_)\n",
    "            if max_score < score:\n",
    "                max_score = score \n",
    "    return (100 - max_score)/100\n",
    "\n",
    "# doesn't work... will use fuzzywuzzy\n",
    "def fasttext_cosine_sim(s1, s2, model):\n",
    "    \n",
    "    v1 = model.get_sentence_vector(s1).reshape(1, -1)\n",
    "    v2 = model.get_sentence_vector(s1).reshape(1, -1)\n",
    "    return 1 - np.round(cosine_similarity(v1,v2)[0][0], 7)\n",
    "\n",
    "\n",
    "example_hotel_df = examples_df.loc[examples_df['p2.clean_hotel_name'] != examples_df['p1.clean_hotel_name']].loc[:,['p1.clean_hotel_name', 'p2.clean_hotel_name']]#.sample(100)\n",
    "\n",
    "example_hotel_df['hotel_dist'] = example_hotel_df.apply(\n",
    "    lambda r: best_fuzz(r['p1.clean_hotel_name'],r['p2.clean_hotel_name']), axis=1)\n",
    "example_hotel_df.loc[example_hotel_df.hotel_dist > 0]"
   ]
  },
  {
   "cell_type": "code",
   "execution_count": 32,
   "id": "1d0d8a72",
   "metadata": {},
   "outputs": [
    {
     "data": {
      "text/html": [
       "<div>\n",
       "<style scoped>\n",
       "    .dataframe tbody tr th:only-of-type {\n",
       "        vertical-align: middle;\n",
       "    }\n",
       "\n",
       "    .dataframe tbody tr th {\n",
       "        vertical-align: top;\n",
       "    }\n",
       "\n",
       "    .dataframe thead th {\n",
       "        text-align: right;\n",
       "    }\n",
       "</style>\n",
       "<table border=\"1\" class=\"dataframe\">\n",
       "  <thead>\n",
       "    <tr style=\"text-align: right;\">\n",
       "      <th></th>\n",
       "      <th>p1.clean_address</th>\n",
       "      <th>p2.clean_address</th>\n",
       "      <th>address_dist</th>\n",
       "    </tr>\n",
       "  </thead>\n",
       "  <tbody>\n",
       "    <tr>\n",
       "      <th>0</th>\n",
       "      <td>jl iskandar muda no 168</td>\n",
       "      <td>jalan iskandar muda no 168 sei asam pasar</td>\n",
       "      <td>0.28</td>\n",
       "    </tr>\n",
       "    <tr>\n",
       "      <th>1</th>\n",
       "      <td>171 moo 1 tambol ngiu ampor wiangpapao chiangrai</td>\n",
       "      <td>171 moo 1 tambol pangiu chiangrai</td>\n",
       "      <td>0.23</td>\n",
       "    </tr>\n",
       "    <tr>\n",
       "      <th>2</th>\n",
       "      <td>holiday gaura waddo</td>\n",
       "      <td>holiday gaura waddo bardez</td>\n",
       "      <td>0.10</td>\n",
       "    </tr>\n",
       "    <tr>\n",
       "      <th>3</th>\n",
       "      <td>building 3 no 116 tongtai</td>\n",
       "      <td>no 3 building no 116 tongtai baiyun</td>\n",
       "      <td>0.17</td>\n",
       "    </tr>\n",
       "    <tr>\n",
       "      <th>5</th>\n",
       "      <td>2140 2 machi hama isumi gun</td>\n",
       "      <td>hama 2140 2</td>\n",
       "      <td>0.42</td>\n",
       "    </tr>\n",
       "    <tr>\n",
       "      <th>...</th>\n",
       "      <td>...</td>\n",
       "      <td>...</td>\n",
       "      <td>...</td>\n",
       "    </tr>\n",
       "    <tr>\n",
       "      <th>492</th>\n",
       "      <td>kirinda sitthulpawwa rottawewa lake</td>\n",
       "      <td>sithulpawwa</td>\n",
       "      <td>0.49</td>\n",
       "    </tr>\n",
       "    <tr>\n",
       "      <th>494</th>\n",
       "      <td>no 69 yongchang chengguan</td>\n",
       "      <td>no 69 yongchang</td>\n",
       "      <td>0.10</td>\n",
       "    </tr>\n",
       "    <tr>\n",
       "      <th>495</th>\n",
       "      <td>jl dago golf 3 cigadung raya</td>\n",
       "      <td>jl dago golf no 3 cigadung raya</td>\n",
       "      <td>0.04</td>\n",
       "    </tr>\n",
       "    <tr>\n",
       "      <th>497</th>\n",
       "      <td>jalan singaraja gilimanuk indonesia</td>\n",
       "      <td>desa sumberkima kecamatan gerokgak kabupaten b...</td>\n",
       "      <td>0.66</td>\n",
       "    </tr>\n",
       "    <tr>\n",
       "      <th>498</th>\n",
       "      <td>rue davy</td>\n",
       "      <td>24 rue davy</td>\n",
       "      <td>0.10</td>\n",
       "    </tr>\n",
       "  </tbody>\n",
       "</table>\n",
       "<p>311 rows × 3 columns</p>\n",
       "</div>"
      ],
      "text/plain": [
       "                                     p1.clean_address  \\\n",
       "0                             jl iskandar muda no 168   \n",
       "1    171 moo 1 tambol ngiu ampor wiangpapao chiangrai   \n",
       "2                                 holiday gaura waddo   \n",
       "3                           building 3 no 116 tongtai   \n",
       "5                         2140 2 machi hama isumi gun   \n",
       "..                                                ...   \n",
       "492               kirinda sitthulpawwa rottawewa lake   \n",
       "494                         no 69 yongchang chengguan   \n",
       "495                      jl dago golf 3 cigadung raya   \n",
       "497               jalan singaraja gilimanuk indonesia   \n",
       "498                                          rue davy   \n",
       "\n",
       "                                      p2.clean_address  address_dist  \n",
       "0            jalan iskandar muda no 168 sei asam pasar          0.28  \n",
       "1                    171 moo 1 tambol pangiu chiangrai          0.23  \n",
       "2                           holiday gaura waddo bardez          0.10  \n",
       "3                  no 3 building no 116 tongtai baiyun          0.17  \n",
       "5                                          hama 2140 2          0.42  \n",
       "..                                                 ...           ...  \n",
       "492                                        sithulpawwa          0.49  \n",
       "494                                    no 69 yongchang          0.10  \n",
       "495                    jl dago golf no 3 cigadung raya          0.04  \n",
       "497  desa sumberkima kecamatan gerokgak kabupaten b...          0.66  \n",
       "498                                        24 rue davy          0.10  \n",
       "\n",
       "[311 rows x 3 columns]"
      ]
     },
     "execution_count": 32,
     "metadata": {},
     "output_type": "execute_result"
    }
   ],
   "source": [
    "example_adderss_df = examples_df.loc[examples_df['p2.clean_address'] != examples_df['p1.clean_address']].loc[:,['p1.clean_address', 'p2.clean_address']]#.sample(100)\n",
    "\n",
    "example_adderss_df['address_dist'] = example_adderss_df.apply(\n",
    "    lambda r: best_fuzz(r['p1.clean_address'],r['p2.clean_address']), axis=1)\n",
    "example_adderss_df.loc[example_adderss_df.address_dist > 0]"
   ]
  },
  {
   "cell_type": "code",
   "execution_count": 33,
   "id": "b2926ca1",
   "metadata": {},
   "outputs": [
    {
     "data": {
      "text/plain": [
       "('hotel names', 0.07995000000000001, 0.6419)"
      ]
     },
     "execution_count": 33,
     "metadata": {},
     "output_type": "execute_result"
    }
   ],
   "source": [
    "# evaluate fuzzywuzzy\n",
    "import random\n",
    "pos = random.sample(range(0, examples_df.shape[0]-1), 200)\n",
    "pos_score = 0\n",
    "for idx in pos:\n",
    "    s1 = examples_df.loc[idx, 'p1.clean_hotel_name']\n",
    "    s2 = examples_df.loc[idx, 'p2.clean_hotel_name']\n",
    "    pos_score += best_fuzz(s1, s2) #, hotel_model)\n",
    "pos_score = pos_score/200\n",
    "\n",
    "neg = random.sample(range(0, examples_df.shape[0]-1), 200)\n",
    "neg_score = 0\n",
    "for idx in neg:\n",
    "    s1 = examples_df.loc[idx,'p1.clean_hotel_name']\n",
    "    s2 = examples_df['p2.clean_hotel_name'].sample(1).values[0]\n",
    "    neg_score += best_fuzz(s1, s2) #, hotel_model)\n",
    "neg_score = neg_score/200\n",
    "\n",
    "\"hotel names\", pos_score, neg_score"
   ]
  },
  {
   "cell_type": "code",
   "execution_count": 34,
   "id": "77f68d21",
   "metadata": {},
   "outputs": [
    {
     "data": {
      "text/plain": [
       "('addresses', 0.14235000000000006, 0.7024499999999998)"
      ]
     },
     "execution_count": 34,
     "metadata": {},
     "output_type": "execute_result"
    }
   ],
   "source": [
    "# evaluate fuzzywuzzy\n",
    "import random\n",
    "pos = random.sample(range(0, examples_df.shape[0]-1), 200)\n",
    "pos_score = 0\n",
    "for idx in pos:\n",
    "    s1 = examples_df.loc[idx, 'p1.clean_address']\n",
    "    s2 = examples_df.loc[idx, 'p2.clean_address']\n",
    "    pos_score += best_fuzz(s1, s2) #, hotel_model)\n",
    "pos_score = pos_score/200\n",
    "\n",
    "neg = random.sample(range(0, examples_df.shape[0]-1), 200)\n",
    "neg_score = 0\n",
    "for idx in neg:\n",
    "    s1 = examples_df.loc[idx,'p1.clean_address']\n",
    "    s2 = examples_df['p2.clean_address'].sample(1).values[0]\n",
    "    neg_score += best_fuzz(s1, s2) #, hotel_model)\n",
    "neg_score = neg_score/200\n",
    "\n",
    "\"addresses\", pos_score, neg_score"
   ]
  },
  {
   "cell_type": "code",
   "execution_count": 433,
   "id": "fc71d165",
   "metadata": {},
   "outputs": [],
   "source": [
    "# hotel_sents = \". \".join(\n",
    "#     partner1_df['clean_hotel_name'].values) + \", \" + \". \".join(\n",
    "#      partner2_df['clean_hotel_name'].values) #+ \", \" + \". \".join(\n",
    "# #     examples_df['p1.clean_hotel_name'].values) + \", \" + \". \".join(\n",
    "# #     examples_df['p2.clean_hotel_name'].values) + \", \" + \". \".join(\n",
    "# #     examples_df['p2.clean_address'].values) + \", \" + \". \".join(\n",
    "# #     examples_df['p2.clean_address'].values) + \", \" + \". \".join(\n",
    "# #     partner1_df['clean_address'].values) + \", \" + \". \".join(\n",
    "# #     partner2_df['clean_address'].values)\n",
    "    \n",
    "# hotel_sents\n",
    "# with open('hotel_sents.txt', 'w') as f:\n",
    "#     f.write(hotel_sents)\n",
    "    \n",
    "# hotel_model = fasttext.train_unsupervised('hotel_sents.txt', model='skipgram', lr=0.01, dim=10, epoch=2)"
   ]
  },
  {
   "cell_type": "code",
   "execution_count": 576,
   "id": "aa2f85fb",
   "metadata": {},
   "outputs": [],
   "source": [
    "#only very few without country_id so just drop them for now...\n",
    "# !!!!!!!!!!!!!!!!!!!!!!!!!!!!!!!!\n",
    "\n",
    "# # one hot encode country_id\n",
    "# s = pd.Series(all_countries[:10])\n",
    "# country_dummies = pd.get_dummies(s)\n",
    "# country_dummies.head()\n",
    "\n",
    "# from sklearn.preprocessing import OneHotEncoder\n",
    "# ohe = OneHotEncoder()\n",
    "# ohe.fit(np.array(all_cities).reshape(-1, 1))\n",
    "# p1_encoded = ohe.transform(examples_df['p1.all_cities'].values.reshape(-1, 1)).toarray()\n",
    "# p2_encoded = ohe.transform(examples_df['p2.all_cities'].values.reshape(-1, 1)).toarray()\n",
    "# # test: examples_df['p1.country_code'][100], ohe.categories_[0][list(p1_encoded[100,:]).index(1)]\n",
    "# p1_df = pd.DataFrame(p1_encoded, columns=ohe.categories_[0])\n",
    "# p2_df = pd.DataFrame(p2_encoded, columns=ohe.categories_[0])"
   ]
  },
  {
   "cell_type": "code",
   "execution_count": 138,
   "id": "67206396",
   "metadata": {
    "scrolled": true
   },
   "outputs": [],
   "source": [
    "p1_df = pd.DataFrame()\n",
    "p2_df = pd.DataFrame()\n",
    "final_partner1_df = pd.DataFrame()\n",
    "final_partner2_df = pd.DataFrame()\n",
    "\n",
    "list_of_cols_to_use = ['clean_hotel_name', \n",
    "                           'clean_address', \n",
    "                           'clean_postal_code',\n",
    "                           'city_name',\n",
    "                           'country_code']\n",
    "for col in list_of_cols_to_use:    \n",
    "    p1_df[col] = examples_df['p1.'+col]\n",
    "    p2_df[col] = examples_df['p1.'+col]\n",
    "    final_partner1_df[col] = partner1_df[col]\n",
    "    final_partner2_df[col] = partner2_df[col]"
   ]
  },
  {
   "cell_type": "code",
   "execution_count": 144,
   "id": "5dddcedd",
   "metadata": {},
   "outputs": [],
   "source": [
    "# generate pos examples\n",
    "def get_min_postal_dist(s1, s2):\n",
    "    min_dist = 0.01\n",
    "    if type(s1) == float or type(s2) == float:\n",
    "        return min_dist\n",
    "#     if type(s1) != list:\n",
    "#         if s1 is pd.np.nan:\n",
    "#             return min_dist\n",
    "#         ifs1 = [s1]\n",
    "#     if type(s2) != list:\n",
    "#         if s2 is pd.np.nan:\n",
    "#             return min_dist\n",
    "#         s2 = [s2]\n",
    "    perms_p1 = [\"\".join(str(p)) for p in list(itertools.permutations(list(s1)))] + list(s1)\n",
    "    perms_p2 = [\"\".join(str(p)) for p in list(itertools.permutations(list(s2)))] + list(s2)\n",
    "    for p1 in perms_p1:\n",
    "        for p2 in perms_p2:\n",
    "            d = damerauLevenshtein(p1.lower(), p2.lower(), similarity=False) / np.min([len(p1), len(p2)])\n",
    "            if d < min_dist:\n",
    "                min_dist = d\n",
    "    return min_dist\n",
    "\n",
    "def calc_feature_vec(p1, p2, label):\n",
    "    features = []\n",
    "    features.append(\n",
    "        best_fuzz(p1['clean_hotel_name'], p2['clean_hotel_name'])\n",
    "    features.append(best_fuzz(p1['clean_address'], p2['clean_address']))\n",
    "    features.append(best_fuzz(p1['city_name'], p2['city_name']))\n",
    "    features.append(get_min_postal_dist(p1['clean_postal_code'], p2['clean_postal_code']))\n",
    "    features.append(label)\n",
    "    return features\n",
    "    \n",
    "    \n",
    "n = int(p1_df.shape[0]/2)\n",
    "pos = random.sample(range(0, p1_df.shape[0]-1), n)\n",
    "pos_features = []\n",
    "for idx in pos:\n",
    "    pos_features.append(calc_feature_vec(p1_df.loc[idx,:], p2_df.loc[idx,:], label=1))\n",
    "    \n",
    "neg_features = []\n",
    "for idx in pos:\n",
    "    new_idx = random.randint(0,p2_df.shape[0]-1)\n",
    "    neg_features.append(calc_feature_vec(p1_df.loc[idx,:], p2_df.loc[new_idx,:], label=0))\n",
    "    \n",
    "all_data = np.array(pos_features + neg_features)"
   ]
  },
  {
   "cell_type": "code",
   "execution_count": 141,
   "id": "3500e971",
   "metadata": {},
   "outputs": [],
   "source": [
    "from sklearn.model_selection import train_test_split\n",
    "X = all_data[:,:-1]\n",
    "y = all_data[:,-1]\n",
    "X_train, X_test, y_train, y_test = train_test_split(X, y, test_size=0.50, random_state=42)"
   ]
  },
  {
   "cell_type": "markdown",
   "id": "02eb219e",
   "metadata": {},
   "source": [
    "# ok time to train - actually stupid since I cleaned the data too much..."
   ]
  },
  {
   "cell_type": "markdown",
   "id": "34c9df60",
   "metadata": {},
   "source": [
    "it's not surprising the classifier is so good since we saw during sample eval on examples_df that data is seperated well"
   ]
  },
  {
   "cell_type": "code",
   "execution_count": 87,
   "id": "d9e6e449",
   "metadata": {},
   "outputs": [
    {
     "data": {
      "text/plain": [
       "array([[120,   0],\n",
       "       [  0, 129]])"
      ]
     },
     "execution_count": 87,
     "metadata": {},
     "output_type": "execute_result"
    }
   ],
   "source": [
    "from sklearn.linear_model import LogisticRegression\n",
    "from sklearn.metrics import confusion_matrix\n",
    "clf = LogisticRegression(random_state=0).fit(X_train, y_train)\n",
    "y_pred = clf.predict(X_test)\n",
    "confusion_matrix(y_test, y_pred)"
   ]
  },
  {
   "cell_type": "markdown",
   "id": "8cfa62f1",
   "metadata": {},
   "source": [
    "# split real data based on country_code"
   ]
  },
  {
   "cell_type": "code",
   "execution_count": 142,
   "id": "0a6ec79e",
   "metadata": {},
   "outputs": [],
   "source": [
    "list_final_partner1_df = {code: x for code, x in final_partner1_df.groupby('country_code')}\n",
    "list_final_partner2_df = {code: x for code, x in final_partner2_df.groupby('country_code')}\n",
    "\n",
    "# len(np.intersect1d(list(list_final_partner1_df), list(list_final_partner2_df)))/len(list(list_final_partner2_df))"
   ]
  },
  {
   "cell_type": "code",
   "execution_count": 145,
   "id": "75a62dd5",
   "metadata": {
    "scrolled": true
   },
   "outputs": [
    {
     "name": "stderr",
     "output_type": "stream",
     "text": [
      "100%|███████████████████████████████████████████████████████████████████████████████████████████████████████████████████████████████████████████████████████████████████| 125/125 [40:05<00:00, 19.24s/it]\n"
     ]
    }
   ],
   "source": [
    "# this really needs to be parallel\n",
    "import pdb \n",
    "from tqdm import tqdm\n",
    "\n",
    "scores_dict = {}\n",
    "for code, p1_df in tqdm(list_final_partner1_df.items()):\n",
    "    p2_df = list_final_partner2_df[code]\n",
    "   # try:       \n",
    "    for r1_idx, r1 in p1_df.iterrows():\n",
    "        if r1_idx in scores_dict.keys():\n",
    "            print(r1_idx)\n",
    "        scores_dict[r1_idx] = {}\n",
    "        for r2_idx, r2 in p2_df.iterrows(): \n",
    "            s = 1 - np.mean(calc_feature_vec(r1, r2, -1)[:-1])\n",
    "#             f = calc_feature_vec(r1, r2, -1)[:-1]\n",
    "#             if f[1] == 0 or f[2] == 0:\n",
    "#                 s = 1\n",
    "#             else:\n",
    "#                 s = 1 - np.mean(f)\n",
    "            scores_dict[r1_idx][r2_idx] = s\n",
    "#     except Exception as e:\n",
    "#         print(code, e)\n",
    "#         pdb.set_trace()"
   ]
  },
  {
   "cell_type": "code",
   "execution_count": 154,
   "id": "dd1580a6",
   "metadata": {},
   "outputs": [],
   "source": [
    "# import pickle\n",
    "# with open('scores_dict1.pkl', 'wb') as handle:\n",
    "#     pickle.dump(scores_dict, handle)\n",
    "\n",
    "with open('scores_dict.pkl', 'rb') as handle:\n",
    "    scores_dict = pickle.load(handle)"
   ]
  },
  {
   "cell_type": "code",
   "execution_count": 147,
   "id": "73985e2a",
   "metadata": {},
   "outputs": [],
   "source": [
    "def secondmax(arr):\n",
    "    sublist = [x for x in arr if x < max(arr)]\n",
    "    return np.max(sublist), np.argmax(sublist)"
   ]
  },
  {
   "cell_type": "code",
   "execution_count": 195,
   "id": "e25b3e6a",
   "metadata": {
    "scrolled": true
   },
   "outputs": [],
   "source": [
    "mapping_dict = {}\n",
    "used_p1 = set()\n",
    "used_p2 = set()\n",
    "count1 = []\n",
    "count2 = []\n",
    "c = 0\n",
    "for key, val in scores_dict.items():\n",
    "    f = 0\n",
    "    v_scores = []\n",
    "    for v in val.values():\n",
    "        v_scores.append(v[0][1])\n",
    "    p2 = list(val)[np.argmax(v_scores)]\n",
    "    \n",
    "    p2_max_score = np.max(v_scores)\n",
    "#     if p2_max_score < 0.5:\n",
    "#         print(key, p2, p2_max_score)\n",
    "#         c+= 1\n",
    "    if key in used_p1:\n",
    "        f=1\n",
    "        count1.append(p1)\n",
    "    if p2 in used_p2:\n",
    "        f=1\n",
    "        count2.append(p2)\n",
    "    if f:\n",
    "        # Im just going to skip the problematic ones because of lack of time\n",
    "        continue\n",
    "    mapping_dict[p2] = (key, p2_max_score)\n",
    "    used_p1.add(key)\n",
    "    used_p2.add(p2)"
   ]
  },
  {
   "cell_type": "code",
   "execution_count": 237,
   "id": "c208f147",
   "metadata": {
    "scrolled": true
   },
   "outputs": [
    {
     "data": {
      "text/plain": [
       "(9120, 2)"
      ]
     },
     "execution_count": 237,
     "metadata": {},
     "output_type": "execute_result"
    }
   ],
   "source": [
    "col1, col2 = [], []\n",
    "for key, (val, score) in mapping_dict.items():\n",
    "    # this should be experimented more but works ok from manual experiments\n",
    "    if score > 0.3:\n",
    "        if partner1_df.loc[val, 'country_code'] != partner2_df.loc[key, 'country_code']:\n",
    "            print(\"country_code sanity failed\")\n",
    "            break\n",
    "        col1.append(partner1_df.loc[val, 'key']) \n",
    "        col2.append(partner2_df.loc[key, 'key'])\n",
    "\n",
    "df = pd.DataFrame({'P1.key': col1, 'P2.key': col2})\n",
    "df.shape\n",
    "#df.to_csv(\"mapping.csv\")"
   ]
  },
  {
   "cell_type": "code",
   "execution_count": 255,
   "id": "8585bd55",
   "metadata": {
    "scrolled": true
   },
   "outputs": [
    {
     "data": {
      "text/html": [
       "<div>\n",
       "<style scoped>\n",
       "    .dataframe tbody tr th:only-of-type {\n",
       "        vertical-align: middle;\n",
       "    }\n",
       "\n",
       "    .dataframe tbody tr th {\n",
       "        vertical-align: top;\n",
       "    }\n",
       "\n",
       "    .dataframe thead th {\n",
       "        text-align: right;\n",
       "    }\n",
       "</style>\n",
       "<table border=\"1\" class=\"dataframe\">\n",
       "  <thead>\n",
       "    <tr style=\"text-align: right;\">\n",
       "      <th></th>\n",
       "      <th>key</th>\n",
       "      <th>hotel_name</th>\n",
       "      <th>city_name</th>\n",
       "      <th>country_code</th>\n",
       "      <th>hotel_address</th>\n",
       "      <th>star_rating</th>\n",
       "      <th>postal_code</th>\n",
       "      <th>country_name</th>\n",
       "      <th>clean_postal_code</th>\n",
       "      <th>clean_address</th>\n",
       "      <th>clean_hotel_name</th>\n",
       "    </tr>\n",
       "  </thead>\n",
       "  <tbody>\n",
       "    <tr>\n",
       "      <th>3533</th>\n",
       "      <td>342FA6E48173B8396CAE2BE4CDEF862F</td>\n",
       "      <td>feng chia enjoy</td>\n",
       "      <td>taichung</td>\n",
       "      <td>TW</td>\n",
       "      <td>no.23, ln. 101, zhishan rd.</td>\n",
       "      <td>0.0</td>\n",
       "      <td>40745</td>\n",
       "      <td>taiwan (province of china)</td>\n",
       "      <td>[40745]</td>\n",
       "      <td>no 23 ln 101 zhishan</td>\n",
       "      <td>feng chia enjoy</td>\n",
       "    </tr>\n",
       "    <tr>\n",
       "      <th>9611</th>\n",
       "      <td>37CE703ED195AA8C71C91ED8EC17C7CE</td>\n",
       "      <td>feng chia enjoy</td>\n",
       "      <td>xitun</td>\n",
       "      <td>TW</td>\n",
       "      <td>no. 23, lane 101, zhishan road</td>\n",
       "      <td>1.0</td>\n",
       "      <td>407</td>\n",
       "      <td>taiwan (province of china)</td>\n",
       "      <td>[407]</td>\n",
       "      <td>no 23 lane 101 zhishan</td>\n",
       "      <td>feng chia enjoy</td>\n",
       "    </tr>\n",
       "  </tbody>\n",
       "</table>\n",
       "</div>"
      ],
      "text/plain": [
       "                                   key       hotel_name city_name  \\\n",
       "3533  342FA6E48173B8396CAE2BE4CDEF862F  feng chia enjoy  taichung   \n",
       "9611  37CE703ED195AA8C71C91ED8EC17C7CE  feng chia enjoy     xitun   \n",
       "\n",
       "     country_code                   hotel_address  star_rating postal_code  \\\n",
       "3533           TW     no.23, ln. 101, zhishan rd.          0.0       40745   \n",
       "9611           TW  no. 23, lane 101, zhishan road          1.0         407   \n",
       "\n",
       "                    country_name clean_postal_code           clean_address  \\\n",
       "3533  taiwan (province of china)           [40745]    no 23 ln 101 zhishan   \n",
       "9611  taiwan (province of china)             [407]  no 23 lane 101 zhishan   \n",
       "\n",
       "     clean_hotel_name  \n",
       "3533  feng chia enjoy  \n",
       "9611  feng chia enjoy  "
      ]
     },
     "execution_count": 255,
     "metadata": {},
     "output_type": "execute_result"
    }
   ],
   "source": [
    "# sanity checks\n",
    "i = 7577\n",
    "pd.concat([partner1_df.loc[partner1_df.key == df[\"P1.key\"][i]], partner2_df.loc[partner2_df.key == df[\"P2.key\"][i]]]) "
   ]
  },
  {
   "cell_type": "code",
   "execution_count": null,
   "id": "a22b4a00",
   "metadata": {},
   "outputs": [],
   "source": []
  },
  {
   "cell_type": "code",
   "execution_count": null,
   "id": "bad5c737",
   "metadata": {},
   "outputs": [],
   "source": []
  }
 ],
 "metadata": {
  "kernelspec": {
   "display_name": "Python 3 (ipykernel)",
   "language": "python",
   "name": "python3"
  },
  "language_info": {
   "codemirror_mode": {
    "name": "ipython",
    "version": 3
   },
   "file_extension": ".py",
   "mimetype": "text/x-python",
   "name": "python",
   "nbconvert_exporter": "python",
   "pygments_lexer": "ipython3",
   "version": "3.9.11"
  }
 },
 "nbformat": 4,
 "nbformat_minor": 5
}
